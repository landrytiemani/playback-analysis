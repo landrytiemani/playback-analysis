{
 "cells": [
  {
   "cell_type": "markdown",
   "id": "66080aa3",
   "metadata": {},
   "source": [
    "# A/B Testing Simulation: Playback Completion Rate"
   ]
  },
  {
   "cell_type": "code",
   "execution_count": null,
   "id": "bc88251c",
   "metadata": {},
   "outputs": [],
   "source": [
    "import pandas as pd\n",
    "import matplotlib.pyplot as plt\n",
    "import seaborn as sns\n",
    "from scipy.stats import ttest_ind\n",
    "\n",
    "data = pd.read_csv(\"../data/sample_playback_data.csv\")\n",
    "data.head()"
   ]
  },
  {
   "cell_type": "code",
   "execution_count": null,
   "id": "b6ffa57c",
   "metadata": {},
   "outputs": [],
   "source": [
    "summary = data.groupby(\"variant\")[\"completion_rate\"].agg(['mean', 'std', 'count'])\n",
    "summary"
   ]
  },
  {
   "cell_type": "code",
   "execution_count": null,
   "id": "ec542725",
   "metadata": {},
   "outputs": [],
   "source": [
    "sns.barplot(data=data, x='variant', y='completion_rate', palette='Set2')\n",
    "plt.title(\"Average Completion Rate by Variant\")\n",
    "plt.ylabel(\"Completion Rate\")\n",
    "plt.ylim(0, 1)\n",
    "plt.grid(axis='y')\n",
    "plt.show()"
   ]
  },
  {
   "cell_type": "code",
   "execution_count": null,
   "id": "0b79eabf",
   "metadata": {},
   "outputs": [],
   "source": [
    "group_A = data[data['variant'] == 'A']['completion_rate']\n",
    "group_B = data[data['variant'] == 'B']['completion_rate']\n",
    "t_stat, p_val = ttest_ind(group_A, group_B, equal_var=False)\n",
    "print(f\"T-statistic: {t_stat:.3f}, P-value: {p_val:.4f}\")"
   ]
  },
  {
   "cell_type": "markdown",
   "id": "97902562",
   "metadata": {},
   "source": [
    "This notebook simulates A/B test analysis with basic visual and statistical interpretation."
   ]
  }
 ],
 "metadata": {
  "language_info": {
   "name": "python"
  }
 },
 "nbformat": 4,
 "nbformat_minor": 5
}
